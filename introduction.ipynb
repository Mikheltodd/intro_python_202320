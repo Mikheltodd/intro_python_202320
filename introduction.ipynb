{
  "nbformat": 4,
  "nbformat_minor": 0,
  "metadata": {
    "colab": {
      "private_outputs": true,
      "provenance": [],
      "authorship_tag": "ABX9TyNKjL/HkAG3Ly0/1RRcIJmq",
      "include_colab_link": true
    },
    "kernelspec": {
      "name": "python3",
      "display_name": "Python 3"
    },
    "language_info": {
      "name": "python"
    }
  },
  "cells": [
    {
      "cell_type": "markdown",
      "metadata": {
        "id": "view-in-github",
        "colab_type": "text"
      },
      "source": [
        "<a href=\"https://colab.research.google.com/github/Mikheltodd/intro_python_202320/blob/main/introduction.ipynb\" target=\"_parent\"><img src=\"https://colab.research.google.com/assets/colab-badge.svg\" alt=\"Open In Colab\"/></a>"
      ]
    },
    {
      "cell_type": "markdown",
      "source": [
        "# Introducción a Python\n",
        "\n",
        "## Curso de Programación y Algoritmia UPB 202320\n",
        "\n",
        "- Nombre: Miguel Ortiz\n",
        "- ID: 391831\n",
        "- Email: miguel.ortizp@upb.edu.co\n",
        "\n",
        "Esta es la expresión de la línea recta:\n",
        "$$y = mx + b$$\n",
        "donde $x$ es la posición."
      ],
      "metadata": {
        "id": "1qZAmcuwFghr"
      }
    },
    {
      "cell_type": "code",
      "source": [
        "# Comentarios\n",
        "\n",
        "# Mis primeras líneas de código en Python\n",
        "name = 'Miguel Angel'\n",
        "pet = 'cat'\n",
        "print(\"Hello. My name is\", name, \"and I have a\", pet)\n"
      ],
      "metadata": {
        "id": "kWrdgsjoICeE"
      },
      "execution_count": null,
      "outputs": []
    },
    {
      "cell_type": "code",
      "source": [],
      "metadata": {
        "id": "71hZ2ZifQ-MB"
      },
      "execution_count": null,
      "outputs": []
    }
  ]
}