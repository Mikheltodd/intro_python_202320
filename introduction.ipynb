{
  "nbformat": 4,
  "nbformat_minor": 0,
  "metadata": {
    "colab": {
      "private_outputs": true,
      "provenance": [],
      "authorship_tag": "ABX9TyPTMN/eSQoY53Cyem+q6OFS",
      "include_colab_link": true
    },
    "kernelspec": {
      "name": "python3",
      "display_name": "Python 3"
    },
    "language_info": {
      "name": "python"
    }
  },
  "cells": [
    {
      "cell_type": "markdown",
      "metadata": {
        "id": "view-in-github",
        "colab_type": "text"
      },
      "source": [
        "<a href=\"https://colab.research.google.com/github/Mikheltodd/intro_python_202320/blob/main/introduction.ipynb\" target=\"_parent\"><img src=\"https://colab.research.google.com/assets/colab-badge.svg\" alt=\"Open In Colab\"/></a>"
      ]
    },
    {
      "cell_type": "markdown",
      "source": [
        "# Introducción a Python\n",
        "\n",
        "## Curso de Programación y Algoritmia UPB 202320\n",
        "\n",
        "- Nombre: Miguel Ortiz\n",
        "- ID: 391831\n",
        "- Email: miguel.ortizp@upb.edu.co\n",
        "\n",
        "Esta es la expresión de la línea recta:\n",
        "$$y = mx + b$$\n",
        "donde $x$ es la posición."
      ],
      "metadata": {
        "id": "1qZAmcuwFghr"
      }
    },
    {
      "cell_type": "code",
      "source": [
        "# Comentarios\n",
        "\n",
        "# Mis primeras líneas de código en Python\n",
        "name = 'Miguel Angel'\n",
        "pet = 'cat'\n",
        "print(\"Hello. My name is\", name, \"and I have a\", pet)\n"
      ],
      "metadata": {
        "id": "kWrdgsjoICeE"
      },
      "execution_count": null,
      "outputs": []
    },
    {
      "cell_type": "code",
      "source": [
        "a = 3\n",
        "b = 4.5\n",
        "c = a + b\n",
        "print(type(a))\n",
        "print(type(b))\n",
        "print(c)\n",
        "c = c * a\n",
        "print(c)\n",
        "c = int(c / b)\n",
        "print(c)\n",
        "d = 0.3\n",
        "c /= d\n",
        "print(c)\n"
      ],
      "metadata": {
        "id": "71hZ2ZifQ-MB"
      },
      "execution_count": null,
      "outputs": []
    },
    {
      "cell_type": "code",
      "source": [
        "print('x', '/---/', 'y')\n",
        "m = 5\n",
        "b = 2\n",
        "x = -3\n",
        "y = m * x + b\n",
        "print(x, '/---/', y)\n",
        "x = -2\n",
        "y = m * x + b\n",
        "print(x, '/---/', y)\n",
        "x = -1\n",
        "y = m * x + b\n",
        "print(x, '/---/', y)"
      ],
      "metadata": {
        "id": "rjP-rZwvZZaz"
      },
      "execution_count": null,
      "outputs": []
    },
    {
      "cell_type": "code",
      "source": [
        "a = 1\n",
        "b = 2\n",
        "c = -8\n",
        "\n",
        "disc = (b ** 2 - 4 * a * c) ** (1/2)\n",
        "x_p = (-b + disc) / (2 * a)\n",
        "x_n = (-b - disc) / (2 * a)\n",
        "print('x_p:', x_p)\n",
        "print('x_n:', x_n)\n",
        "print('-'*10)\n",
        "a = -3\n",
        "b = -1\n",
        "c = 10\n",
        "\n",
        "disc = (b ** 2 - 4 * a * c) ** (1/2)\n",
        "x_p = (-b + disc) / (2 * a)\n",
        "x_n = (-b - disc) / (2 * a)\n",
        "print('x_p:', x_p)\n",
        "print('x_n:', x_n)\n",
        "print('-'*10)\n",
        "a = 0.1\n",
        "b = -2\n",
        "c = 0.5\n",
        "\n",
        "disc = (b ** 2 - 4 * a * c) ** (1/2)\n",
        "x_p = (-b + disc) / (2 * a)\n",
        "x_n = (-b - disc) / (2 * a)\n",
        "print('x_p:', x_p)\n",
        "print('x_n:', x_n)\n",
        "print('-' * 20)\n"
      ],
      "metadata": {
        "id": "ym-OjT45fOx9"
      },
      "execution_count": null,
      "outputs": []
    },
    {
      "cell_type": "code",
      "source": [
        "firstname = \"Miguel\"\n",
        "lastname = 'Ortiz'\n",
        "fullname = firstname + ' ' + lastname\n",
        "print(fullname)"
      ],
      "metadata": {
        "id": "GI4KIZFaiEHG"
      },
      "execution_count": null,
      "outputs": []
    },
    {
      "cell_type": "code",
      "source": [
        "song = \"\"\"Un elefante se balanceaba\n",
        "sobre la tela de una araña\n",
        "como veía que resistía\n",
        "se fue a buscar otra... no sé.\n",
        "\"\"\"\n",
        "print(song)"
      ],
      "metadata": {
        "id": "l4bBkchRkkkW"
      },
      "execution_count": null,
      "outputs": []
    },
    {
      "cell_type": "code",
      "source": [
        "a = 3\n",
        "b = 5\n",
        "print(a == b)\n",
        "print(a != b)\n",
        "print(a > b)\n",
        "print(a < b)\n",
        "print((a == b) and (b + 3 > 5))\n",
        "print((a == b) or (b + 3 > 5))\n",
        "print(not (a == b))"
      ],
      "metadata": {
        "id": "BXYEDrfjlRqD"
      },
      "execution_count": null,
      "outputs": []
    },
    {
      "cell_type": "code",
      "source": [],
      "metadata": {
        "id": "17gT8uJbmdVu"
      },
      "execution_count": null,
      "outputs": []
    }
  ]
}